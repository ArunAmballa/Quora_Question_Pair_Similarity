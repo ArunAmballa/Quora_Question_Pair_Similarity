{
 "cells": [
  {
   "cell_type": "markdown",
   "metadata": {},
   "source": [
    "<h1>Conclusion</h1>"
   ]
  },
  {
   "cell_type": "code",
   "execution_count": 1,
   "metadata": {},
   "outputs": [],
   "source": [
    "from prettytable import PrettyTable"
   ]
  },
  {
   "cell_type": "code",
   "execution_count": 2,
   "metadata": {},
   "outputs": [
    {
     "name": "stdout",
     "output_type": "stream",
     "text": [
      "+--------------+---------------------+-------------------------------------+------------------------+---------------+\n",
      "| Dataset Size |      Model Name     |               Features              | Hyperparameter Tunning | Test Log Loss |\n",
      "+--------------+---------------------+-------------------------------------+------------------------+---------------+\n",
      "|    ~ 404K    |        Random       |   Sim Fs+Adv Fs+TFIDF Weighted W2V  |           NA           |      0.88     |\n",
      "|    ~ 404K    | Logistic Regression |   Sim Fs+Adv Fs+TFIDF Weighted W2V  |          Done          |      0.42     |\n",
      "|    ~ 404K    |      Linear SVM     |   Sim Fs+Adv Fs+TFIDF Weighted W2V  |          Done          |      0.45     |\n",
      "|    ~ 404K    |       XGBoost       |   Sim Fs+Adv Fs+TFIDF Weighted W2V  |           NA           |      0.35     |\n",
      "|    ~ 100K    |       XGBoost       |   Sim Fs+Adv Fs+TFIDF Weighted W2V  |          Done          |      0.33     |\n",
      "|              |                     |                                     |                        |               |\n",
      "|              |                     |                                     |                        |               |\n",
      "|    ~ 202K    |        Random       |      Sim Fs+Adv Fs+TFIDF Simple     |           NA           |      0.88     |\n",
      "|    ~ 202K    | Logistic Regression |      Sim Fs+Adv Fs+TFIDF Simple     |          Done          |      0.39     |\n",
      "|    ~ 202K    |      Linear SVM     |      Sim Fs+Adv Fs+TFIDF Simple     |          Done          |      0.43     |\n",
      "|    ~ 202K    |       XGBoost       |      Sim Fs+Adv Fs+TFIDF Simple     |          Done          |      0.31     |\n",
      "|              |                     |                                     |                        |               |\n",
      "|              |                     |                                     |                        |               |\n",
      "|    ~ 202K    |        Random       | Sim Fs + Adv Fs + Word2Vec Features |           NA           |      0.88     |\n",
      "|    ~ 202K    | Logistic Regression | Sim Fs + Adv Fs + Word2Vec Features |          Done          |      0.40     |\n",
      "|    ~ 202K    |      Linear SVM     | Sim Fs + Adv Fs + Word2Vec Features |          Done          |      0.41     |\n",
      "|    ~ 202K    |       XGBoost       | Sim Fs + Adv Fs + Word2Vec Features |          Done          |      0.33     |\n",
      "+--------------+---------------------+-------------------------------------+------------------------+---------------+\n"
     ]
    }
   ],
   "source": [
    "ptable = PrettyTable()\n",
    "ptable.title = \" Model Comparision \"\n",
    "ptable.field_names = ['Dataset Size', 'Model Name','Features','Hyperparameter Tunning', 'Test Log Loss']\n",
    "ptable.add_row([\"~ 404K\",\"Random\",\"Sim Fs+Adv Fs+TFIDF Weighted W2V\",\"NA\",\"0.88\"])\n",
    "ptable.add_row([\"~ 404K\",\"Logistic Regression\",\"Sim Fs+Adv Fs+TFIDF Weighted W2V\",\"Done\",\"0.42\"])\n",
    "ptable.add_row([\"~ 404K\",\"Linear SVM\",\"Sim Fs+Adv Fs+TFIDF Weighted W2V\",\"Done\",\"0.45\"])\n",
    "ptable.add_row([\"~ 404K\",\"XGBoost\",\"Sim Fs+Adv Fs+TFIDF Weighted W2V\",\"NA\",\"0.35\"])\n",
    "ptable.add_row([\"~ 100K\",\"XGBoost\",\"Sim Fs+Adv Fs+TFIDF Weighted W2V\",\"Done\",\"0.33\"])\n",
    "ptable.add_row([\"\\n\",\"\\n\",\"\\n\",\"\\n\",\"\\n\"])\n",
    "ptable.add_row([\"~ 202K\",\"Random\",\"Sim Fs+Adv Fs+TFIDF Simple\",\"NA\",\"0.88\"])\n",
    "ptable.add_row([\"~ 202K\",\"Logistic Regression\",\"Sim Fs+Adv Fs+TFIDF Simple\",\"Done\",\"0.39\"])\n",
    "ptable.add_row([\"~ 202K\",\"Linear SVM\",\"Sim Fs+Adv Fs+TFIDF Simple\",\"Done\",\"0.43\"])\n",
    "ptable.add_row([\"~ 202K\",\"XGBoost\",\"Sim Fs+Adv Fs+TFIDF Simple\",\"Done\",\"0.31\"])\n",
    "ptable.add_row([\"\\n\",\"\\n\",\"\\n\",\"\\n\",\"\\n\"])\n",
    "ptable.add_row([\"~ 202K\",\"Random\",\"Sim Fs + Adv Fs + Word2Vec Features\",\"NA\",\"0.88\"])\n",
    "ptable.add_row([\"~ 202K\",\"Logistic Regression\",\"Sim Fs + Adv Fs + Word2Vec Features\",\"Done\",\"0.40\"])\n",
    "ptable.add_row([\"~ 202K\",\"Linear SVM\",\"Sim Fs + Adv Fs + Word2Vec Features\",\"Done\",\"0.41\"])\n",
    "ptable.add_row([\"~ 202K\",\"XGBoost\",\"Sim Fs + Adv Fs + Word2Vec Features\",\"Done\",\"0.33\"])\n",
    "print(ptable)"
   ]
  }
 ],
 "metadata": {
  "kernelspec": {
   "display_name": "Python 3",
   "language": "python",
   "name": "python3"
  },
  "language_info": {
   "codemirror_mode": {
    "name": "ipython",
    "version": 3
   },
   "file_extension": ".py",
   "mimetype": "text/x-python",
   "name": "python",
   "nbconvert_exporter": "python",
   "pygments_lexer": "ipython3",
   "version": "3.8.8"
  }
 },
 "nbformat": 4,
 "nbformat_minor": 2
}
